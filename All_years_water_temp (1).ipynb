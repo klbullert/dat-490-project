{
  "nbformat": 4,
  "nbformat_minor": 0,
  "metadata": {
    "colab": {
      "provenance": []
    },
    "kernelspec": {
      "name": "python3",
      "display_name": "Python 3"
    },
    "language_info": {
      "name": "python"
    }
  },
  "cells": [
    {
      "cell_type": "code",
      "source": [
        "pip install pandas requests"
      ],
      "metadata": {
        "colab": {
          "base_uri": "https://localhost:8080/"
        },
        "id": "aP988HAwfv5y",
        "outputId": "439b4ae5-1689-42f0-e561-eb81e5c1516c"
      },
      "execution_count": 1,
      "outputs": [
        {
          "output_type": "stream",
          "name": "stdout",
          "text": [
            "Requirement already satisfied: pandas in /usr/local/lib/python3.10/dist-packages (2.2.2)\n",
            "Requirement already satisfied: requests in /usr/local/lib/python3.10/dist-packages (2.32.3)\n",
            "Requirement already satisfied: numpy>=1.22.4 in /usr/local/lib/python3.10/dist-packages (from pandas) (1.26.4)\n",
            "Requirement already satisfied: python-dateutil>=2.8.2 in /usr/local/lib/python3.10/dist-packages (from pandas) (2.8.2)\n",
            "Requirement already satisfied: pytz>=2020.1 in /usr/local/lib/python3.10/dist-packages (from pandas) (2024.2)\n",
            "Requirement already satisfied: tzdata>=2022.7 in /usr/local/lib/python3.10/dist-packages (from pandas) (2024.2)\n",
            "Requirement already satisfied: charset-normalizer<4,>=2 in /usr/local/lib/python3.10/dist-packages (from requests) (3.3.2)\n",
            "Requirement already satisfied: idna<4,>=2.5 in /usr/local/lib/python3.10/dist-packages (from requests) (3.10)\n",
            "Requirement already satisfied: urllib3<3,>=1.21.1 in /usr/local/lib/python3.10/dist-packages (from requests) (2.2.3)\n",
            "Requirement already satisfied: certifi>=2017.4.17 in /usr/local/lib/python3.10/dist-packages (from requests) (2024.8.30)\n",
            "Requirement already satisfied: six>=1.5 in /usr/local/lib/python3.10/dist-packages (from python-dateutil>=2.8.2->pandas) (1.16.0)\n"
          ]
        }
      ]
    },
    {
      "cell_type": "code",
      "source": [
        "\n",
        "pip install beautifulsoup4"
      ],
      "metadata": {
        "colab": {
          "base_uri": "https://localhost:8080/"
        },
        "id": "sqgeoP3MheMl",
        "outputId": "31fb4456-47f1-4ffa-8ddf-f4a3c8ebcc1c"
      },
      "execution_count": 2,
      "outputs": [
        {
          "output_type": "stream",
          "name": "stdout",
          "text": [
            "Requirement already satisfied: beautifulsoup4 in /usr/local/lib/python3.10/dist-packages (4.12.3)\n",
            "Requirement already satisfied: soupsieve>1.2 in /usr/local/lib/python3.10/dist-packages (from beautifulsoup4) (2.6)\n"
          ]
        }
      ]
    },
    {
      "cell_type": "code",
      "source": [
        "import requests\n",
        "import os\n",
        "import pandas as pd\n",
        "from urllib.parse import urljoin"
      ],
      "metadata": {
        "id": "bYqk_3eBf1_k"
      },
      "execution_count": 3,
      "outputs": []
    },
    {
      "cell_type": "code",
      "source": [
        "from bs4 import BeautifulSoup\n",
        "\n",
        "def get_csv_urls(base_url):\n",
        "    csv_urls = []\n",
        "\n",
        "\n",
        "    for year in range(1995, 2025):\n",
        "        year_url = urljoin(base_url, f\"{year}/\")\n",
        "        response = requests.get(year_url)\n",
        "        if response.status_code == 200:\n",
        "\n",
        "            soup = BeautifulSoup(response.text, 'html.parser')\n",
        "\n",
        "            for link in soup.find_all('a'):\n",
        "                href = link.get('href')\n",
        "                if href.endswith('water_temperature.csv'):\n",
        "                    csv_file_url = urljoin(year_url, href)\n",
        "                    csv_urls.append(csv_file_url)\n",
        "        else:\n",
        "            print(f\"Failed to access folder for year {year}\")\n",
        "\n",
        "    return csv_urls\n",
        "\n",
        "\n",
        "def download_and_combine_csvs(csv_urls):\n",
        "    \"\"\"\n",
        "    Function to download CSVs from a list of URLs and combine them into a single DataFrame.\n",
        "    \"\"\"\n",
        "    df_list = []\n",
        "\n",
        "    for url in csv_urls:\n",
        "        print(f\"Downloading: {url}\")\n",
        "        response = requests.get(url)\n",
        "        if response.status_code == 200:\n",
        "\n",
        "            df = pd.read_csv(url)\n",
        "            df_list.append(df)\n",
        "        else:\n",
        "            print(f\"Failed to download: {url}\")\n",
        "\n",
        "\n",
        "    combined_df = pd.concat(df_list, ignore_index=True)\n",
        "    return combined_df\n",
        "\n",
        "\n",
        "base_url = \"https://data.gcoos.org/data/waf/csv_by_observation/\"\n",
        "\n",
        "\n",
        "csv_urls = get_csv_urls(base_url)\n",
        "\n",
        "combined_watertemp = download_and_combine_csvs(csv_urls)\n",
        "\n",
        "print(combined_watertemp)\n"
      ],
      "metadata": {
        "colab": {
          "base_uri": "https://localhost:8080/"
        },
        "id": "0wklCOW-f26-",
        "outputId": "dd070d65-caf0-4713-fdfc-d340fe89e35d"
      },
      "execution_count": 4,
      "outputs": [
        {
          "output_type": "stream",
          "name": "stdout",
          "text": [
            "Downloading: https://data.gcoos.org/data/waf/csv_by_observation/1995/gcoos_1995_04_sea_water_temperature.csv\n",
            "Downloading: https://data.gcoos.org/data/waf/csv_by_observation/1995/gcoos_1995_05_sea_water_temperature.csv\n",
            "Downloading: https://data.gcoos.org/data/waf/csv_by_observation/1995/gcoos_1995_06_sea_water_temperature.csv\n",
            "Downloading: https://data.gcoos.org/data/waf/csv_by_observation/1995/gcoos_1995_07_sea_water_temperature.csv\n",
            "Downloading: https://data.gcoos.org/data/waf/csv_by_observation/1995/gcoos_1995_08_sea_water_temperature.csv\n",
            "Downloading: https://data.gcoos.org/data/waf/csv_by_observation/1995/gcoos_1995_09_sea_water_temperature.csv\n",
            "Downloading: https://data.gcoos.org/data/waf/csv_by_observation/1995/gcoos_1995_10_sea_water_temperature.csv\n",
            "Downloading: https://data.gcoos.org/data/waf/csv_by_observation/1995/gcoos_1995_11_sea_water_temperature.csv\n",
            "Downloading: https://data.gcoos.org/data/waf/csv_by_observation/1995/gcoos_1995_12_sea_water_temperature.csv\n",
            "Downloading: https://data.gcoos.org/data/waf/csv_by_observation/1996/gcoos_1996_01_sea_water_temperature.csv\n",
            "Downloading: https://data.gcoos.org/data/waf/csv_by_observation/1996/gcoos_1996_02_sea_water_temperature.csv\n",
            "Downloading: https://data.gcoos.org/data/waf/csv_by_observation/1996/gcoos_1996_03_sea_water_temperature.csv\n",
            "Downloading: https://data.gcoos.org/data/waf/csv_by_observation/1996/gcoos_1996_04_sea_water_temperature.csv\n",
            "Downloading: https://data.gcoos.org/data/waf/csv_by_observation/1996/gcoos_1996_05_sea_water_temperature.csv\n",
            "Downloading: https://data.gcoos.org/data/waf/csv_by_observation/1996/gcoos_1996_06_sea_water_temperature.csv\n",
            "Downloading: https://data.gcoos.org/data/waf/csv_by_observation/1996/gcoos_1996_07_sea_water_temperature.csv\n",
            "Downloading: https://data.gcoos.org/data/waf/csv_by_observation/1996/gcoos_1996_08_sea_water_temperature.csv\n",
            "Downloading: https://data.gcoos.org/data/waf/csv_by_observation/1996/gcoos_1996_09_sea_water_temperature.csv\n",
            "Downloading: https://data.gcoos.org/data/waf/csv_by_observation/1996/gcoos_1996_10_sea_water_temperature.csv\n",
            "Downloading: https://data.gcoos.org/data/waf/csv_by_observation/1996/gcoos_1996_11_sea_water_temperature.csv\n",
            "Downloading: https://data.gcoos.org/data/waf/csv_by_observation/1996/gcoos_1996_12_sea_water_temperature.csv\n",
            "Downloading: https://data.gcoos.org/data/waf/csv_by_observation/1997/gcoos_1997_01_sea_water_temperature.csv\n",
            "Downloading: https://data.gcoos.org/data/waf/csv_by_observation/1997/gcoos_1997_02_sea_water_temperature.csv\n",
            "Downloading: https://data.gcoos.org/data/waf/csv_by_observation/1997/gcoos_1997_03_sea_water_temperature.csv\n",
            "Downloading: https://data.gcoos.org/data/waf/csv_by_observation/1997/gcoos_1997_04_sea_water_temperature.csv\n",
            "Downloading: https://data.gcoos.org/data/waf/csv_by_observation/1997/gcoos_1997_05_sea_water_temperature.csv\n",
            "Downloading: https://data.gcoos.org/data/waf/csv_by_observation/1997/gcoos_1997_06_sea_water_temperature.csv\n",
            "Downloading: https://data.gcoos.org/data/waf/csv_by_observation/1997/gcoos_1997_07_sea_water_temperature.csv\n",
            "Downloading: https://data.gcoos.org/data/waf/csv_by_observation/1997/gcoos_1997_08_sea_water_temperature.csv\n",
            "Downloading: https://data.gcoos.org/data/waf/csv_by_observation/1997/gcoos_1997_09_sea_water_temperature.csv\n",
            "Downloading: https://data.gcoos.org/data/waf/csv_by_observation/1997/gcoos_1997_10_sea_water_temperature.csv\n",
            "Downloading: https://data.gcoos.org/data/waf/csv_by_observation/1997/gcoos_1997_11_sea_water_temperature.csv\n",
            "Downloading: https://data.gcoos.org/data/waf/csv_by_observation/1997/gcoos_1997_12_sea_water_temperature.csv\n",
            "Downloading: https://data.gcoos.org/data/waf/csv_by_observation/1998/gcoos_1998_01_sea_water_temperature.csv\n",
            "Downloading: https://data.gcoos.org/data/waf/csv_by_observation/1998/gcoos_1998_02_sea_water_temperature.csv\n",
            "Downloading: https://data.gcoos.org/data/waf/csv_by_observation/1998/gcoos_1998_03_sea_water_temperature.csv\n",
            "Downloading: https://data.gcoos.org/data/waf/csv_by_observation/1998/gcoos_1998_04_sea_water_temperature.csv\n",
            "Downloading: https://data.gcoos.org/data/waf/csv_by_observation/1998/gcoos_1998_05_sea_water_temperature.csv\n",
            "Downloading: https://data.gcoos.org/data/waf/csv_by_observation/1998/gcoos_1998_06_sea_water_temperature.csv\n",
            "Downloading: https://data.gcoos.org/data/waf/csv_by_observation/1998/gcoos_1998_07_sea_water_temperature.csv\n",
            "Downloading: https://data.gcoos.org/data/waf/csv_by_observation/1998/gcoos_1998_08_sea_water_temperature.csv\n",
            "Downloading: https://data.gcoos.org/data/waf/csv_by_observation/1998/gcoos_1998_09_sea_water_temperature.csv\n",
            "Downloading: https://data.gcoos.org/data/waf/csv_by_observation/1998/gcoos_1998_10_sea_water_temperature.csv\n",
            "Downloading: https://data.gcoos.org/data/waf/csv_by_observation/1998/gcoos_1998_11_sea_water_temperature.csv\n",
            "Downloading: https://data.gcoos.org/data/waf/csv_by_observation/1998/gcoos_1998_12_sea_water_temperature.csv\n",
            "Downloading: https://data.gcoos.org/data/waf/csv_by_observation/1999/gcoos_1999_01_sea_water_temperature.csv\n",
            "Downloading: https://data.gcoos.org/data/waf/csv_by_observation/1999/gcoos_1999_02_sea_water_temperature.csv\n",
            "Downloading: https://data.gcoos.org/data/waf/csv_by_observation/1999/gcoos_1999_03_sea_water_temperature.csv\n",
            "Downloading: https://data.gcoos.org/data/waf/csv_by_observation/1999/gcoos_1999_04_sea_water_temperature.csv\n",
            "Downloading: https://data.gcoos.org/data/waf/csv_by_observation/1999/gcoos_1999_05_sea_water_temperature.csv\n",
            "Downloading: https://data.gcoos.org/data/waf/csv_by_observation/1999/gcoos_1999_06_sea_water_temperature.csv\n",
            "Downloading: https://data.gcoos.org/data/waf/csv_by_observation/1999/gcoos_1999_07_sea_water_temperature.csv\n",
            "Downloading: https://data.gcoos.org/data/waf/csv_by_observation/1999/gcoos_1999_08_sea_water_temperature.csv\n",
            "Downloading: https://data.gcoos.org/data/waf/csv_by_observation/1999/gcoos_1999_09_sea_water_temperature.csv\n",
            "Downloading: https://data.gcoos.org/data/waf/csv_by_observation/1999/gcoos_1999_10_sea_water_temperature.csv\n",
            "Downloading: https://data.gcoos.org/data/waf/csv_by_observation/1999/gcoos_1999_11_sea_water_temperature.csv\n",
            "Downloading: https://data.gcoos.org/data/waf/csv_by_observation/1999/gcoos_1999_12_sea_water_temperature.csv\n",
            "Downloading: https://data.gcoos.org/data/waf/csv_by_observation/2000/gcoos_2000_01_sea_water_temperature.csv\n",
            "Downloading: https://data.gcoos.org/data/waf/csv_by_observation/2000/gcoos_2000_02_sea_water_temperature.csv\n",
            "Downloading: https://data.gcoos.org/data/waf/csv_by_observation/2000/gcoos_2000_03_sea_water_temperature.csv\n",
            "Downloading: https://data.gcoos.org/data/waf/csv_by_observation/2000/gcoos_2000_04_sea_water_temperature.csv\n",
            "Downloading: https://data.gcoos.org/data/waf/csv_by_observation/2000/gcoos_2000_05_sea_water_temperature.csv\n",
            "Downloading: https://data.gcoos.org/data/waf/csv_by_observation/2000/gcoos_2000_06_sea_water_temperature.csv\n",
            "Downloading: https://data.gcoos.org/data/waf/csv_by_observation/2000/gcoos_2000_07_sea_water_temperature.csv\n",
            "Downloading: https://data.gcoos.org/data/waf/csv_by_observation/2000/gcoos_2000_08_sea_water_temperature.csv\n",
            "Downloading: https://data.gcoos.org/data/waf/csv_by_observation/2000/gcoos_2000_09_sea_water_temperature.csv\n",
            "Downloading: https://data.gcoos.org/data/waf/csv_by_observation/2000/gcoos_2000_10_sea_water_temperature.csv\n",
            "Downloading: https://data.gcoos.org/data/waf/csv_by_observation/2000/gcoos_2000_11_sea_water_temperature.csv\n",
            "Downloading: https://data.gcoos.org/data/waf/csv_by_observation/2000/gcoos_2000_12_sea_water_temperature.csv\n",
            "Downloading: https://data.gcoos.org/data/waf/csv_by_observation/2001/gcoos_2001_01_sea_water_temperature.csv\n",
            "Downloading: https://data.gcoos.org/data/waf/csv_by_observation/2001/gcoos_2001_02_sea_water_temperature.csv\n",
            "Downloading: https://data.gcoos.org/data/waf/csv_by_observation/2001/gcoos_2001_03_sea_water_temperature.csv\n",
            "Downloading: https://data.gcoos.org/data/waf/csv_by_observation/2001/gcoos_2001_04_sea_water_temperature.csv\n",
            "Downloading: https://data.gcoos.org/data/waf/csv_by_observation/2001/gcoos_2001_05_sea_water_temperature.csv\n",
            "Downloading: https://data.gcoos.org/data/waf/csv_by_observation/2001/gcoos_2001_06_sea_water_temperature.csv\n",
            "Downloading: https://data.gcoos.org/data/waf/csv_by_observation/2001/gcoos_2001_07_sea_water_temperature.csv\n",
            "Downloading: https://data.gcoos.org/data/waf/csv_by_observation/2001/gcoos_2001_08_sea_water_temperature.csv\n",
            "Downloading: https://data.gcoos.org/data/waf/csv_by_observation/2001/gcoos_2001_09_sea_water_temperature.csv\n",
            "Downloading: https://data.gcoos.org/data/waf/csv_by_observation/2001/gcoos_2001_10_sea_water_temperature.csv\n",
            "Downloading: https://data.gcoos.org/data/waf/csv_by_observation/2001/gcoos_2001_11_sea_water_temperature.csv\n",
            "Downloading: https://data.gcoos.org/data/waf/csv_by_observation/2001/gcoos_2001_12_sea_water_temperature.csv\n",
            "Downloading: https://data.gcoos.org/data/waf/csv_by_observation/2002/gcoos_2002_01_sea_water_temperature.csv\n",
            "Downloading: https://data.gcoos.org/data/waf/csv_by_observation/2002/gcoos_2002_02_sea_water_temperature.csv\n",
            "Downloading: https://data.gcoos.org/data/waf/csv_by_observation/2002/gcoos_2002_03_sea_water_temperature.csv\n",
            "Downloading: https://data.gcoos.org/data/waf/csv_by_observation/2002/gcoos_2002_04_sea_water_temperature.csv\n",
            "Downloading: https://data.gcoos.org/data/waf/csv_by_observation/2002/gcoos_2002_05_sea_water_temperature.csv\n",
            "Downloading: https://data.gcoos.org/data/waf/csv_by_observation/2002/gcoos_2002_06_sea_water_temperature.csv\n",
            "Downloading: https://data.gcoos.org/data/waf/csv_by_observation/2002/gcoos_2002_07_sea_water_temperature.csv\n",
            "Downloading: https://data.gcoos.org/data/waf/csv_by_observation/2002/gcoos_2002_08_sea_water_temperature.csv\n",
            "Downloading: https://data.gcoos.org/data/waf/csv_by_observation/2002/gcoos_2002_09_sea_water_temperature.csv\n",
            "Downloading: https://data.gcoos.org/data/waf/csv_by_observation/2002/gcoos_2002_10_sea_water_temperature.csv\n",
            "Downloading: https://data.gcoos.org/data/waf/csv_by_observation/2002/gcoos_2002_11_sea_water_temperature.csv\n",
            "Downloading: https://data.gcoos.org/data/waf/csv_by_observation/2002/gcoos_2002_12_sea_water_temperature.csv\n",
            "Downloading: https://data.gcoos.org/data/waf/csv_by_observation/2003/gcoos_2003_01_sea_water_temperature.csv\n",
            "Downloading: https://data.gcoos.org/data/waf/csv_by_observation/2003/gcoos_2003_02_sea_water_temperature.csv\n",
            "Downloading: https://data.gcoos.org/data/waf/csv_by_observation/2003/gcoos_2003_03_sea_water_temperature.csv\n",
            "Downloading: https://data.gcoos.org/data/waf/csv_by_observation/2003/gcoos_2003_04_sea_water_temperature.csv\n",
            "Downloading: https://data.gcoos.org/data/waf/csv_by_observation/2003/gcoos_2003_05_sea_water_temperature.csv\n",
            "Downloading: https://data.gcoos.org/data/waf/csv_by_observation/2003/gcoos_2003_06_sea_water_temperature.csv\n",
            "Downloading: https://data.gcoos.org/data/waf/csv_by_observation/2003/gcoos_2003_07_sea_water_temperature.csv\n",
            "Downloading: https://data.gcoos.org/data/waf/csv_by_observation/2003/gcoos_2003_08_sea_water_temperature.csv\n",
            "Downloading: https://data.gcoos.org/data/waf/csv_by_observation/2003/gcoos_2003_09_sea_water_temperature.csv\n",
            "Downloading: https://data.gcoos.org/data/waf/csv_by_observation/2003/gcoos_2003_10_sea_water_temperature.csv\n",
            "Downloading: https://data.gcoos.org/data/waf/csv_by_observation/2003/gcoos_2003_11_sea_water_temperature.csv\n",
            "Downloading: https://data.gcoos.org/data/waf/csv_by_observation/2003/gcoos_2003_12_sea_water_temperature.csv\n",
            "Downloading: https://data.gcoos.org/data/waf/csv_by_observation/2004/gcoos_2004_01_sea_water_temperature.csv\n",
            "Downloading: https://data.gcoos.org/data/waf/csv_by_observation/2004/gcoos_2004_02_sea_water_temperature.csv\n",
            "Downloading: https://data.gcoos.org/data/waf/csv_by_observation/2004/gcoos_2004_03_sea_water_temperature.csv\n",
            "Downloading: https://data.gcoos.org/data/waf/csv_by_observation/2004/gcoos_2004_04_sea_water_temperature.csv\n",
            "Downloading: https://data.gcoos.org/data/waf/csv_by_observation/2004/gcoos_2004_05_sea_water_temperature.csv\n",
            "Downloading: https://data.gcoos.org/data/waf/csv_by_observation/2004/gcoos_2004_06_sea_water_temperature.csv\n",
            "Downloading: https://data.gcoos.org/data/waf/csv_by_observation/2004/gcoos_2004_07_sea_water_temperature.csv\n",
            "Downloading: https://data.gcoos.org/data/waf/csv_by_observation/2004/gcoos_2004_08_sea_water_temperature.csv\n",
            "Downloading: https://data.gcoos.org/data/waf/csv_by_observation/2004/gcoos_2004_09_sea_water_temperature.csv\n",
            "Downloading: https://data.gcoos.org/data/waf/csv_by_observation/2004/gcoos_2004_10_sea_water_temperature.csv\n",
            "Downloading: https://data.gcoos.org/data/waf/csv_by_observation/2004/gcoos_2004_11_sea_water_temperature.csv\n",
            "Downloading: https://data.gcoos.org/data/waf/csv_by_observation/2004/gcoos_2004_12_sea_water_temperature.csv\n",
            "Downloading: https://data.gcoos.org/data/waf/csv_by_observation/2005/gcoos_2005_01_sea_water_temperature.csv\n",
            "Downloading: https://data.gcoos.org/data/waf/csv_by_observation/2005/gcoos_2005_02_sea_water_temperature.csv\n",
            "Downloading: https://data.gcoos.org/data/waf/csv_by_observation/2005/gcoos_2005_03_sea_water_temperature.csv\n",
            "Downloading: https://data.gcoos.org/data/waf/csv_by_observation/2005/gcoos_2005_04_sea_water_temperature.csv\n",
            "Downloading: https://data.gcoos.org/data/waf/csv_by_observation/2005/gcoos_2005_05_sea_water_temperature.csv\n",
            "Downloading: https://data.gcoos.org/data/waf/csv_by_observation/2005/gcoos_2005_06_sea_water_temperature.csv\n",
            "Downloading: https://data.gcoos.org/data/waf/csv_by_observation/2005/gcoos_2005_07_sea_water_temperature.csv\n",
            "Downloading: https://data.gcoos.org/data/waf/csv_by_observation/2005/gcoos_2005_08_sea_water_temperature.csv\n",
            "Downloading: https://data.gcoos.org/data/waf/csv_by_observation/2005/gcoos_2005_09_sea_water_temperature.csv\n",
            "Downloading: https://data.gcoos.org/data/waf/csv_by_observation/2005/gcoos_2005_10_sea_water_temperature.csv\n",
            "Downloading: https://data.gcoos.org/data/waf/csv_by_observation/2005/gcoos_2005_11_sea_water_temperature.csv\n",
            "Downloading: https://data.gcoos.org/data/waf/csv_by_observation/2005/gcoos_2005_12_sea_water_temperature.csv\n",
            "Downloading: https://data.gcoos.org/data/waf/csv_by_observation/2006/gcoos_2006_01_sea_water_temperature.csv\n",
            "Downloading: https://data.gcoos.org/data/waf/csv_by_observation/2006/gcoos_2006_02_sea_water_temperature.csv\n",
            "Downloading: https://data.gcoos.org/data/waf/csv_by_observation/2006/gcoos_2006_03_sea_water_temperature.csv\n",
            "Downloading: https://data.gcoos.org/data/waf/csv_by_observation/2006/gcoos_2006_04_sea_water_temperature.csv\n",
            "Downloading: https://data.gcoos.org/data/waf/csv_by_observation/2006/gcoos_2006_05_sea_water_temperature.csv\n",
            "Downloading: https://data.gcoos.org/data/waf/csv_by_observation/2006/gcoos_2006_06_sea_water_temperature.csv\n",
            "Downloading: https://data.gcoos.org/data/waf/csv_by_observation/2006/gcoos_2006_07_sea_water_temperature.csv\n",
            "Downloading: https://data.gcoos.org/data/waf/csv_by_observation/2006/gcoos_2006_08_sea_water_temperature.csv\n",
            "Downloading: https://data.gcoos.org/data/waf/csv_by_observation/2006/gcoos_2006_09_sea_water_temperature.csv\n",
            "Downloading: https://data.gcoos.org/data/waf/csv_by_observation/2006/gcoos_2006_10_sea_water_temperature.csv\n",
            "Downloading: https://data.gcoos.org/data/waf/csv_by_observation/2006/gcoos_2006_11_sea_water_temperature.csv\n",
            "Downloading: https://data.gcoos.org/data/waf/csv_by_observation/2006/gcoos_2006_12_sea_water_temperature.csv\n",
            "Downloading: https://data.gcoos.org/data/waf/csv_by_observation/2007/gcoos_2007_01_sea_water_temperature.csv\n",
            "Downloading: https://data.gcoos.org/data/waf/csv_by_observation/2007/gcoos_2007_02_sea_water_temperature.csv\n",
            "Downloading: https://data.gcoos.org/data/waf/csv_by_observation/2007/gcoos_2007_03_sea_water_temperature.csv\n",
            "Downloading: https://data.gcoos.org/data/waf/csv_by_observation/2007/gcoos_2007_04_sea_water_temperature.csv\n",
            "Downloading: https://data.gcoos.org/data/waf/csv_by_observation/2007/gcoos_2007_05_sea_water_temperature.csv\n",
            "Downloading: https://data.gcoos.org/data/waf/csv_by_observation/2007/gcoos_2007_06_sea_water_temperature.csv\n",
            "Downloading: https://data.gcoos.org/data/waf/csv_by_observation/2007/gcoos_2007_07_sea_water_temperature.csv\n",
            "Downloading: https://data.gcoos.org/data/waf/csv_by_observation/2007/gcoos_2007_08_sea_water_temperature.csv\n",
            "Downloading: https://data.gcoos.org/data/waf/csv_by_observation/2007/gcoos_2007_09_sea_water_temperature.csv\n",
            "Downloading: https://data.gcoos.org/data/waf/csv_by_observation/2007/gcoos_2007_10_sea_water_temperature.csv\n",
            "Downloading: https://data.gcoos.org/data/waf/csv_by_observation/2007/gcoos_2007_11_sea_water_temperature.csv\n",
            "Downloading: https://data.gcoos.org/data/waf/csv_by_observation/2007/gcoos_2007_12_sea_water_temperature.csv\n",
            "Downloading: https://data.gcoos.org/data/waf/csv_by_observation/2008/gcoos_2008_01_sea_water_temperature.csv\n",
            "Downloading: https://data.gcoos.org/data/waf/csv_by_observation/2008/gcoos_2008_02_sea_water_temperature.csv\n",
            "Downloading: https://data.gcoos.org/data/waf/csv_by_observation/2008/gcoos_2008_03_sea_water_temperature.csv\n",
            "Downloading: https://data.gcoos.org/data/waf/csv_by_observation/2008/gcoos_2008_04_sea_water_temperature.csv\n",
            "Downloading: https://data.gcoos.org/data/waf/csv_by_observation/2008/gcoos_2008_05_sea_water_temperature.csv\n",
            "Downloading: https://data.gcoos.org/data/waf/csv_by_observation/2008/gcoos_2008_06_sea_water_temperature.csv\n",
            "Downloading: https://data.gcoos.org/data/waf/csv_by_observation/2008/gcoos_2008_07_sea_water_temperature.csv\n",
            "Downloading: https://data.gcoos.org/data/waf/csv_by_observation/2008/gcoos_2008_08_sea_water_temperature.csv\n",
            "Downloading: https://data.gcoos.org/data/waf/csv_by_observation/2008/gcoos_2008_09_sea_water_temperature.csv\n",
            "Downloading: https://data.gcoos.org/data/waf/csv_by_observation/2008/gcoos_2008_10_sea_water_temperature.csv\n",
            "Downloading: https://data.gcoos.org/data/waf/csv_by_observation/2008/gcoos_2008_11_sea_water_temperature.csv\n",
            "Downloading: https://data.gcoos.org/data/waf/csv_by_observation/2008/gcoos_2008_12_sea_water_temperature.csv\n",
            "Downloading: https://data.gcoos.org/data/waf/csv_by_observation/2009/gcoos_2009_01_sea_water_temperature.csv\n",
            "Downloading: https://data.gcoos.org/data/waf/csv_by_observation/2009/gcoos_2009_02_sea_water_temperature.csv\n",
            "Downloading: https://data.gcoos.org/data/waf/csv_by_observation/2009/gcoos_2009_03_sea_water_temperature.csv\n",
            "Downloading: https://data.gcoos.org/data/waf/csv_by_observation/2009/gcoos_2009_04_sea_water_temperature.csv\n",
            "Downloading: https://data.gcoos.org/data/waf/csv_by_observation/2009/gcoos_2009_05_sea_water_temperature.csv\n",
            "Downloading: https://data.gcoos.org/data/waf/csv_by_observation/2009/gcoos_2009_06_sea_water_temperature.csv\n",
            "Downloading: https://data.gcoos.org/data/waf/csv_by_observation/2009/gcoos_2009_07_sea_water_temperature.csv\n",
            "Downloading: https://data.gcoos.org/data/waf/csv_by_observation/2009/gcoos_2009_08_sea_water_temperature.csv\n",
            "Downloading: https://data.gcoos.org/data/waf/csv_by_observation/2009/gcoos_2009_09_sea_water_temperature.csv\n",
            "Downloading: https://data.gcoos.org/data/waf/csv_by_observation/2009/gcoos_2009_10_sea_water_temperature.csv\n",
            "Downloading: https://data.gcoos.org/data/waf/csv_by_observation/2009/gcoos_2009_11_sea_water_temperature.csv\n",
            "Downloading: https://data.gcoos.org/data/waf/csv_by_observation/2009/gcoos_2009_12_sea_water_temperature.csv\n",
            "Downloading: https://data.gcoos.org/data/waf/csv_by_observation/2010/gcoos_2010_01_sea_water_temperature.csv\n",
            "Downloading: https://data.gcoos.org/data/waf/csv_by_observation/2010/gcoos_2010_02_sea_water_temperature.csv\n",
            "Downloading: https://data.gcoos.org/data/waf/csv_by_observation/2010/gcoos_2010_03_sea_water_temperature.csv\n",
            "Downloading: https://data.gcoos.org/data/waf/csv_by_observation/2010/gcoos_2010_04_sea_water_temperature.csv\n",
            "Downloading: https://data.gcoos.org/data/waf/csv_by_observation/2010/gcoos_2010_05_sea_water_temperature.csv\n",
            "Downloading: https://data.gcoos.org/data/waf/csv_by_observation/2010/gcoos_2010_06_sea_water_temperature.csv\n",
            "Downloading: https://data.gcoos.org/data/waf/csv_by_observation/2010/gcoos_2010_07_sea_water_temperature.csv\n",
            "Downloading: https://data.gcoos.org/data/waf/csv_by_observation/2010/gcoos_2010_08_sea_water_temperature.csv\n",
            "Downloading: https://data.gcoos.org/data/waf/csv_by_observation/2010/gcoos_2010_09_sea_water_temperature.csv\n",
            "Downloading: https://data.gcoos.org/data/waf/csv_by_observation/2010/gcoos_2010_10_sea_water_temperature.csv\n",
            "Downloading: https://data.gcoos.org/data/waf/csv_by_observation/2010/gcoos_2010_11_sea_water_temperature.csv\n",
            "Downloading: https://data.gcoos.org/data/waf/csv_by_observation/2010/gcoos_2010_12_sea_water_temperature.csv\n",
            "Downloading: https://data.gcoos.org/data/waf/csv_by_observation/2011/gcoos_2011_01_sea_water_temperature.csv\n",
            "Downloading: https://data.gcoos.org/data/waf/csv_by_observation/2011/gcoos_2011_02_sea_water_temperature.csv\n",
            "Downloading: https://data.gcoos.org/data/waf/csv_by_observation/2011/gcoos_2011_03_sea_water_temperature.csv\n",
            "Downloading: https://data.gcoos.org/data/waf/csv_by_observation/2011/gcoos_2011_04_sea_water_temperature.csv\n",
            "Downloading: https://data.gcoos.org/data/waf/csv_by_observation/2011/gcoos_2011_05_sea_water_temperature.csv\n",
            "Downloading: https://data.gcoos.org/data/waf/csv_by_observation/2011/gcoos_2011_06_sea_water_temperature.csv\n",
            "Downloading: https://data.gcoos.org/data/waf/csv_by_observation/2011/gcoos_2011_07_sea_water_temperature.csv\n",
            "Downloading: https://data.gcoos.org/data/waf/csv_by_observation/2011/gcoos_2011_08_sea_water_temperature.csv\n",
            "Downloading: https://data.gcoos.org/data/waf/csv_by_observation/2011/gcoos_2011_09_sea_water_temperature.csv\n",
            "Downloading: https://data.gcoos.org/data/waf/csv_by_observation/2011/gcoos_2011_10_sea_water_temperature.csv\n",
            "Downloading: https://data.gcoos.org/data/waf/csv_by_observation/2011/gcoos_2011_11_sea_water_temperature.csv\n",
            "Downloading: https://data.gcoos.org/data/waf/csv_by_observation/2011/gcoos_2011_12_sea_water_temperature.csv\n",
            "Downloading: https://data.gcoos.org/data/waf/csv_by_observation/2012/gcoos_2012_01_sea_water_temperature.csv\n",
            "Downloading: https://data.gcoos.org/data/waf/csv_by_observation/2012/gcoos_2012_02_sea_water_temperature.csv\n",
            "Downloading: https://data.gcoos.org/data/waf/csv_by_observation/2012/gcoos_2012_03_sea_water_temperature.csv\n",
            "Downloading: https://data.gcoos.org/data/waf/csv_by_observation/2012/gcoos_2012_04_sea_water_temperature.csv\n",
            "Downloading: https://data.gcoos.org/data/waf/csv_by_observation/2012/gcoos_2012_05_sea_water_temperature.csv\n",
            "Downloading: https://data.gcoos.org/data/waf/csv_by_observation/2012/gcoos_2012_06_sea_water_temperature.csv\n",
            "Downloading: https://data.gcoos.org/data/waf/csv_by_observation/2012/gcoos_2012_07_sea_water_temperature.csv\n",
            "Downloading: https://data.gcoos.org/data/waf/csv_by_observation/2012/gcoos_2012_08_sea_water_temperature.csv\n",
            "Downloading: https://data.gcoos.org/data/waf/csv_by_observation/2012/gcoos_2012_09_sea_water_temperature.csv\n",
            "Downloading: https://data.gcoos.org/data/waf/csv_by_observation/2012/gcoos_2012_10_sea_water_temperature.csv\n",
            "Downloading: https://data.gcoos.org/data/waf/csv_by_observation/2012/gcoos_2012_11_sea_water_temperature.csv\n",
            "Downloading: https://data.gcoos.org/data/waf/csv_by_observation/2012/gcoos_2012_12_sea_water_temperature.csv\n",
            "Downloading: https://data.gcoos.org/data/waf/csv_by_observation/2013/gcoos_2013_01_sea_water_temperature.csv\n",
            "Downloading: https://data.gcoos.org/data/waf/csv_by_observation/2013/gcoos_2013_02_sea_water_temperature.csv\n",
            "Downloading: https://data.gcoos.org/data/waf/csv_by_observation/2013/gcoos_2013_03_sea_water_temperature.csv\n",
            "Downloading: https://data.gcoos.org/data/waf/csv_by_observation/2013/gcoos_2013_04_sea_water_temperature.csv\n",
            "Downloading: https://data.gcoos.org/data/waf/csv_by_observation/2013/gcoos_2013_05_sea_water_temperature.csv\n",
            "Downloading: https://data.gcoos.org/data/waf/csv_by_observation/2013/gcoos_2013_06_sea_water_temperature.csv\n",
            "Downloading: https://data.gcoos.org/data/waf/csv_by_observation/2013/gcoos_2013_07_sea_water_temperature.csv\n",
            "Downloading: https://data.gcoos.org/data/waf/csv_by_observation/2013/gcoos_2013_08_sea_water_temperature.csv\n",
            "Downloading: https://data.gcoos.org/data/waf/csv_by_observation/2013/gcoos_2013_09_sea_water_temperature.csv\n",
            "Downloading: https://data.gcoos.org/data/waf/csv_by_observation/2013/gcoos_2013_10_sea_water_temperature.csv\n",
            "Downloading: https://data.gcoos.org/data/waf/csv_by_observation/2013/gcoos_2013_11_sea_water_temperature.csv\n",
            "Downloading: https://data.gcoos.org/data/waf/csv_by_observation/2013/gcoos_2013_12_sea_water_temperature.csv\n",
            "Downloading: https://data.gcoos.org/data/waf/csv_by_observation/2014/gcoos_2014_01_sea_water_temperature.csv\n",
            "Downloading: https://data.gcoos.org/data/waf/csv_by_observation/2014/gcoos_2014_02_sea_water_temperature.csv\n",
            "Downloading: https://data.gcoos.org/data/waf/csv_by_observation/2014/gcoos_2014_03_sea_water_temperature.csv\n",
            "Downloading: https://data.gcoos.org/data/waf/csv_by_observation/2014/gcoos_2014_04_sea_water_temperature.csv\n",
            "Downloading: https://data.gcoos.org/data/waf/csv_by_observation/2014/gcoos_2014_05_sea_water_temperature.csv\n",
            "Downloading: https://data.gcoos.org/data/waf/csv_by_observation/2014/gcoos_2014_06_sea_water_temperature.csv\n",
            "Downloading: https://data.gcoos.org/data/waf/csv_by_observation/2014/gcoos_2014_07_sea_water_temperature.csv\n",
            "Downloading: https://data.gcoos.org/data/waf/csv_by_observation/2014/gcoos_2014_08_sea_water_temperature.csv\n",
            "Downloading: https://data.gcoos.org/data/waf/csv_by_observation/2014/gcoos_2014_09_sea_water_temperature.csv\n",
            "Downloading: https://data.gcoos.org/data/waf/csv_by_observation/2014/gcoos_2014_10_sea_water_temperature.csv\n",
            "Downloading: https://data.gcoos.org/data/waf/csv_by_observation/2014/gcoos_2014_11_sea_water_temperature.csv\n",
            "Downloading: https://data.gcoos.org/data/waf/csv_by_observation/2014/gcoos_2014_12_sea_water_temperature.csv\n",
            "Downloading: https://data.gcoos.org/data/waf/csv_by_observation/2015/gcoos_2015_01_sea_water_temperature.csv\n",
            "Downloading: https://data.gcoos.org/data/waf/csv_by_observation/2015/gcoos_2015_02_sea_water_temperature.csv\n",
            "Downloading: https://data.gcoos.org/data/waf/csv_by_observation/2015/gcoos_2015_03_sea_water_temperature.csv\n",
            "Downloading: https://data.gcoos.org/data/waf/csv_by_observation/2015/gcoos_2015_04_sea_water_temperature.csv\n",
            "Downloading: https://data.gcoos.org/data/waf/csv_by_observation/2015/gcoos_2015_05_sea_water_temperature.csv\n",
            "Downloading: https://data.gcoos.org/data/waf/csv_by_observation/2015/gcoos_2015_06_sea_water_temperature.csv\n",
            "Downloading: https://data.gcoos.org/data/waf/csv_by_observation/2015/gcoos_2015_07_sea_water_temperature.csv\n",
            "Downloading: https://data.gcoos.org/data/waf/csv_by_observation/2015/gcoos_2015_08_sea_water_temperature.csv\n",
            "Downloading: https://data.gcoos.org/data/waf/csv_by_observation/2015/gcoos_2015_09_sea_water_temperature.csv\n",
            "Downloading: https://data.gcoos.org/data/waf/csv_by_observation/2015/gcoos_2015_10_sea_water_temperature.csv\n",
            "Downloading: https://data.gcoos.org/data/waf/csv_by_observation/2015/gcoos_2015_11_sea_water_temperature.csv\n",
            "Downloading: https://data.gcoos.org/data/waf/csv_by_observation/2015/gcoos_2015_12_sea_water_temperature.csv\n",
            "Downloading: https://data.gcoos.org/data/waf/csv_by_observation/2016/gcoos_2016_01_sea_water_temperature.csv\n",
            "Downloading: https://data.gcoos.org/data/waf/csv_by_observation/2016/gcoos_2016_02_sea_water_temperature.csv\n",
            "Downloading: https://data.gcoos.org/data/waf/csv_by_observation/2016/gcoos_2016_03_sea_water_temperature.csv\n",
            "Downloading: https://data.gcoos.org/data/waf/csv_by_observation/2016/gcoos_2016_04_sea_water_temperature.csv\n",
            "Downloading: https://data.gcoos.org/data/waf/csv_by_observation/2016/gcoos_2016_05_sea_water_temperature.csv\n",
            "Downloading: https://data.gcoos.org/data/waf/csv_by_observation/2016/gcoos_2016_06_sea_water_temperature.csv\n",
            "Downloading: https://data.gcoos.org/data/waf/csv_by_observation/2016/gcoos_2016_07_sea_water_temperature.csv\n",
            "Downloading: https://data.gcoos.org/data/waf/csv_by_observation/2016/gcoos_2016_08_sea_water_temperature.csv\n",
            "Downloading: https://data.gcoos.org/data/waf/csv_by_observation/2016/gcoos_2016_09_sea_water_temperature.csv\n",
            "Downloading: https://data.gcoos.org/data/waf/csv_by_observation/2016/gcoos_2016_10_sea_water_temperature.csv\n",
            "Downloading: https://data.gcoos.org/data/waf/csv_by_observation/2016/gcoos_2016_11_sea_water_temperature.csv\n",
            "Downloading: https://data.gcoos.org/data/waf/csv_by_observation/2016/gcoos_2016_12_sea_water_temperature.csv\n",
            "Downloading: https://data.gcoos.org/data/waf/csv_by_observation/2017/gcoos_2017_01_sea_water_temperature.csv\n",
            "Downloading: https://data.gcoos.org/data/waf/csv_by_observation/2017/gcoos_2017_02_sea_water_temperature.csv\n",
            "Downloading: https://data.gcoos.org/data/waf/csv_by_observation/2017/gcoos_2017_03_sea_water_temperature.csv\n",
            "Downloading: https://data.gcoos.org/data/waf/csv_by_observation/2017/gcoos_2017_04_sea_water_temperature.csv\n",
            "Downloading: https://data.gcoos.org/data/waf/csv_by_observation/2017/gcoos_2017_05_sea_water_temperature.csv\n",
            "Downloading: https://data.gcoos.org/data/waf/csv_by_observation/2017/gcoos_2017_06_sea_water_temperature.csv\n",
            "Downloading: https://data.gcoos.org/data/waf/csv_by_observation/2017/gcoos_2017_07_sea_water_temperature.csv\n",
            "Downloading: https://data.gcoos.org/data/waf/csv_by_observation/2017/gcoos_2017_08_sea_water_temperature.csv\n",
            "Downloading: https://data.gcoos.org/data/waf/csv_by_observation/2017/gcoos_2017_09_sea_water_temperature.csv\n",
            "Downloading: https://data.gcoos.org/data/waf/csv_by_observation/2017/gcoos_2017_10_sea_water_temperature.csv\n",
            "Downloading: https://data.gcoos.org/data/waf/csv_by_observation/2017/gcoos_2017_11_sea_water_temperature.csv\n",
            "Downloading: https://data.gcoos.org/data/waf/csv_by_observation/2017/gcoos_2017_12_sea_water_temperature.csv\n",
            "Downloading: https://data.gcoos.org/data/waf/csv_by_observation/2018/gcoos_2018_01_sea_water_temperature.csv\n",
            "Downloading: https://data.gcoos.org/data/waf/csv_by_observation/2018/gcoos_2018_02_sea_water_temperature.csv\n",
            "Downloading: https://data.gcoos.org/data/waf/csv_by_observation/2018/gcoos_2018_03_sea_water_temperature.csv\n",
            "Downloading: https://data.gcoos.org/data/waf/csv_by_observation/2018/gcoos_2018_04_sea_water_temperature.csv\n",
            "Downloading: https://data.gcoos.org/data/waf/csv_by_observation/2018/gcoos_2018_05_sea_water_temperature.csv\n",
            "Downloading: https://data.gcoos.org/data/waf/csv_by_observation/2018/gcoos_2018_06_sea_water_temperature.csv\n",
            "Downloading: https://data.gcoos.org/data/waf/csv_by_observation/2018/gcoos_2018_07_sea_water_temperature.csv\n",
            "Downloading: https://data.gcoos.org/data/waf/csv_by_observation/2018/gcoos_2018_08_sea_water_temperature.csv\n",
            "Downloading: https://data.gcoos.org/data/waf/csv_by_observation/2018/gcoos_2018_09_sea_water_temperature.csv\n",
            "Downloading: https://data.gcoos.org/data/waf/csv_by_observation/2018/gcoos_2018_10_sea_water_temperature.csv\n",
            "Downloading: https://data.gcoos.org/data/waf/csv_by_observation/2018/gcoos_2018_11_sea_water_temperature.csv\n",
            "Downloading: https://data.gcoos.org/data/waf/csv_by_observation/2018/gcoos_2018_12_sea_water_temperature.csv\n",
            "Downloading: https://data.gcoos.org/data/waf/csv_by_observation/2019/gcoos_2019_01_sea_water_temperature.csv\n",
            "Downloading: https://data.gcoos.org/data/waf/csv_by_observation/2019/gcoos_2019_02_sea_water_temperature.csv\n",
            "Downloading: https://data.gcoos.org/data/waf/csv_by_observation/2019/gcoos_2019_03_sea_water_temperature.csv\n",
            "Downloading: https://data.gcoos.org/data/waf/csv_by_observation/2019/gcoos_2019_04_sea_water_temperature.csv\n",
            "Downloading: https://data.gcoos.org/data/waf/csv_by_observation/2019/gcoos_2019_05_sea_water_temperature.csv\n",
            "Downloading: https://data.gcoos.org/data/waf/csv_by_observation/2019/gcoos_2019_06_sea_water_temperature.csv\n",
            "Downloading: https://data.gcoos.org/data/waf/csv_by_observation/2019/gcoos_2019_07_sea_water_temperature.csv\n",
            "Downloading: https://data.gcoos.org/data/waf/csv_by_observation/2019/gcoos_2019_08_sea_water_temperature.csv\n",
            "Downloading: https://data.gcoos.org/data/waf/csv_by_observation/2019/gcoos_2019_09_sea_water_temperature.csv\n",
            "Downloading: https://data.gcoos.org/data/waf/csv_by_observation/2019/gcoos_2019_10_sea_water_temperature.csv\n",
            "Downloading: https://data.gcoos.org/data/waf/csv_by_observation/2019/gcoos_2019_11_sea_water_temperature.csv\n",
            "Downloading: https://data.gcoos.org/data/waf/csv_by_observation/2019/gcoos_2019_12_sea_water_temperature.csv\n",
            "Downloading: https://data.gcoos.org/data/waf/csv_by_observation/2020/gcoos_2020_01_sea_water_temperature.csv\n",
            "Downloading: https://data.gcoos.org/data/waf/csv_by_observation/2020/gcoos_2020_02_sea_water_temperature.csv\n",
            "Downloading: https://data.gcoos.org/data/waf/csv_by_observation/2020/gcoos_2020_03_sea_water_temperature.csv\n",
            "Downloading: https://data.gcoos.org/data/waf/csv_by_observation/2020/gcoos_2020_04_sea_water_temperature.csv\n",
            "Downloading: https://data.gcoos.org/data/waf/csv_by_observation/2020/gcoos_2020_05_sea_water_temperature.csv\n",
            "Downloading: https://data.gcoos.org/data/waf/csv_by_observation/2020/gcoos_2020_06_sea_water_temperature.csv\n",
            "Downloading: https://data.gcoos.org/data/waf/csv_by_observation/2020/gcoos_2020_07_sea_water_temperature.csv\n",
            "Downloading: https://data.gcoos.org/data/waf/csv_by_observation/2020/gcoos_2020_08_sea_water_temperature.csv\n",
            "Downloading: https://data.gcoos.org/data/waf/csv_by_observation/2020/gcoos_2020_09_sea_water_temperature.csv\n",
            "Downloading: https://data.gcoos.org/data/waf/csv_by_observation/2020/gcoos_2020_10_sea_water_temperature.csv\n",
            "Downloading: https://data.gcoos.org/data/waf/csv_by_observation/2020/gcoos_2020_11_sea_water_temperature.csv\n",
            "Downloading: https://data.gcoos.org/data/waf/csv_by_observation/2020/gcoos_2020_12_sea_water_temperature.csv\n",
            "Downloading: https://data.gcoos.org/data/waf/csv_by_observation/2021/gcoos_2021_01_sea_water_temperature.csv\n",
            "Downloading: https://data.gcoos.org/data/waf/csv_by_observation/2021/gcoos_2021_02_sea_water_temperature.csv\n",
            "Downloading: https://data.gcoos.org/data/waf/csv_by_observation/2021/gcoos_2021_03_sea_water_temperature.csv\n",
            "Downloading: https://data.gcoos.org/data/waf/csv_by_observation/2023/gcoos_2023_11_sea_water_temperature.csv\n",
            "Downloading: https://data.gcoos.org/data/waf/csv_by_observation/2023/gcoos_2023_12_sea_water_temperature.csv\n",
            "Downloading: https://data.gcoos.org/data/waf/csv_by_observation/2024/gcoos_2024_01_sea_water_temperature.csv\n",
            "Downloading: https://data.gcoos.org/data/waf/csv_by_observation/2024/gcoos_2024_02_sea_water_temperature.csv\n",
            "Downloading: https://data.gcoos.org/data/waf/csv_by_observation/2024/gcoos_2024_03_sea_water_temperature.csv\n",
            "Downloading: https://data.gcoos.org/data/waf/csv_by_observation/2024/gcoos_2024_04_sea_water_temperature.csv\n",
            "Downloading: https://data.gcoos.org/data/waf/csv_by_observation/2024/gcoos_2024_05_sea_water_temperature.csv\n",
            "Downloading: https://data.gcoos.org/data/waf/csv_by_observation/2024/gcoos_2024_06_sea_water_temperature.csv\n",
            "Downloading: https://data.gcoos.org/data/waf/csv_by_observation/2024/gcoos_2024_07_sea_water_temperature.csv\n",
            "Downloading: https://data.gcoos.org/data/waf/csv_by_observation/2024/gcoos_2024_08_sea_water_temperature.csv\n",
            "Downloading: https://data.gcoos.org/data/waf/csv_by_observation/2024/gcoos_2024_09_sea_water_temperature.csv\n",
            "                                                    network  \\\n",
            "0                                                      TABS   \n",
            "1                                                      TABS   \n",
            "2                                                      TABS   \n",
            "3                                                      TABS   \n",
            "4                                                      TABS   \n",
            "...                                                     ...   \n",
            "23679808                                                NOS   \n",
            "23679809                                                NOS   \n",
            "23679810                                                NOS   \n",
            "23679811                                                NOS   \n",
            "23679812  DISCLAIMER: The Gulf of Mexico Coastal and Oce...   \n",
            "\n",
            "                                      platform  latitude  longitude  \\\n",
            "0                          ioos:station:TABS:C   28.8116   -94.7433   \n",
            "1                          ioos:station:TABS:C   28.8116   -94.7433   \n",
            "2                          ioos:station:TABS:C   28.8116   -94.7433   \n",
            "3                          ioos:station:TABS:C   28.8116   -94.7433   \n",
            "4                          ioos:station:TABS:C   28.8116   -94.7433   \n",
            "...                                        ...       ...        ...   \n",
            "23679808  ioos:station:NOAA.NOS.CO-OPS:8771013   29.4800   -94.9183   \n",
            "23679809  ioos:station:NOAA.NOS.CO-OPS:8774770   28.0217   -97.0467   \n",
            "23679810  ioos:station:NOAA.NOS.CO-OPS:8775296   27.8120   -97.3900   \n",
            "23679811  ioos:station:NOAA.NOS.CO-OPS:8779770   26.0600   -97.2150   \n",
            "23679812                                   NaN       NaN        NaN   \n",
            "\n",
            "                          date  vertical_datum  sea_water_temperature  \\\n",
            "0         1995-04-02T00:00:00Z            -2.0                  19.24   \n",
            "1         1995-04-02T18:00:00Z            -2.0                  19.24   \n",
            "2         1995-04-02T18:30:00Z            -2.0                  19.33   \n",
            "3         1995-04-02T19:00:00Z            -2.0                  19.37   \n",
            "4         1995-04-02T19:30:00Z            -2.0                  19.35   \n",
            "...                        ...             ...                    ...   \n",
            "23679808  2024-09-30T23:54:00Z             2.0                    NaN   \n",
            "23679809  2024-09-30T23:54:00Z             2.0                    NaN   \n",
            "23679810  2024-09-30T23:54:00Z             2.0                    NaN   \n",
            "23679811  2024-09-30T23:54:00Z             2.0                    NaN   \n",
            "23679812                   NaN             NaN                    NaN   \n",
            "\n",
            "             qcFlag   sea_water_temperature   \n",
            "0         11111222.0                     NaN  \n",
            "1         11111222.0                     NaN  \n",
            "2         11111222.0                     NaN  \n",
            "3         11111222.0                     NaN  \n",
            "4         11111222.0                     NaN  \n",
            "...              ...                     ...  \n",
            "23679808         NaN                    29.7  \n",
            "23679809         NaN                    30.4  \n",
            "23679810         NaN                    30.3  \n",
            "23679811         NaN                    31.1  \n",
            "23679812         NaN                     NaN  \n",
            "\n",
            "[23679813 rows x 9 columns]\n"
          ]
        }
      ]
    },
    {
      "cell_type": "code",
      "source": [
        "print(combined_watertemp.columns)"
      ],
      "metadata": {
        "colab": {
          "base_uri": "https://localhost:8080/"
        },
        "id": "1CtLOYO7rmEr",
        "outputId": "46e88c10-35cd-44bd-bff7-96eab50dca81"
      },
      "execution_count": 5,
      "outputs": [
        {
          "output_type": "stream",
          "name": "stdout",
          "text": [
            "Index(['network', 'platform', 'latitude', 'longitude', 'date',\n",
            "       'vertical_datum', 'sea_water_temperature', 'qcFlag ',\n",
            "       'sea_water_temperature '],\n",
            "      dtype='object')\n"
          ]
        }
      ]
    },
    {
      "cell_type": "code",
      "source": [
        "\n",
        "combined_watertemp['sea_water_temperature_combined'] = combined_watertemp['sea_water_temperature'].fillna(combined_watertemp['sea_water_temperature '])\n",
        "\n",
        "\n",
        "combined_watertemp = combined_watertemp.drop(['sea_water_temperature', 'sea_water_temperature '], axis=1)\n",
        "\n",
        "\n",
        "combined_watertemp = combined_watertemp.rename(columns={'sea_water_temperature_combined': 'sea_water_temperature'})\n",
        "\n",
        "print(combined_watertemp.head())\n"
      ],
      "metadata": {
        "colab": {
          "base_uri": "https://localhost:8080/"
        },
        "id": "oX9LWWxVrM_n",
        "outputId": "b48643c9-405f-41cf-e813-6e25fe9e315f"
      },
      "execution_count": 6,
      "outputs": [
        {
          "output_type": "stream",
          "name": "stdout",
          "text": [
            "  network             platform  latitude  longitude                  date  \\\n",
            "0    TABS  ioos:station:TABS:C   28.8116   -94.7433  1995-04-02T00:00:00Z   \n",
            "1    TABS  ioos:station:TABS:C   28.8116   -94.7433  1995-04-02T18:00:00Z   \n",
            "2    TABS  ioos:station:TABS:C   28.8116   -94.7433  1995-04-02T18:30:00Z   \n",
            "3    TABS  ioos:station:TABS:C   28.8116   -94.7433  1995-04-02T19:00:00Z   \n",
            "4    TABS  ioos:station:TABS:C   28.8116   -94.7433  1995-04-02T19:30:00Z   \n",
            "\n",
            "   vertical_datum     qcFlag   sea_water_temperature  \n",
            "0            -2.0  11111222.0                  19.24  \n",
            "1            -2.0  11111222.0                  19.24  \n",
            "2            -2.0  11111222.0                  19.33  \n",
            "3            -2.0  11111222.0                  19.37  \n",
            "4            -2.0  11111222.0                  19.35  \n"
          ]
        }
      ]
    },
    {
      "cell_type": "code",
      "source": [
        "count_nan = combined_watertemp['sea_water_temperature'].isna().sum()\n",
        "print(count_nan)"
      ],
      "metadata": {
        "colab": {
          "base_uri": "https://localhost:8080/"
        },
        "id": "AHxVf4x29gSD",
        "outputId": "7d3a5e2c-1391-4231-8301-0b86a31b4c56"
      },
      "execution_count": 7,
      "outputs": [
        {
          "output_type": "stream",
          "name": "stdout",
          "text": [
            "323\n"
          ]
        }
      ]
    },
    {
      "cell_type": "code",
      "source": [
        "combined_watertemp = combined_watertemp.dropna(subset=['sea_water_temperature'])"
      ],
      "metadata": {
        "id": "q4X5ipn-9pZs"
      },
      "execution_count": 8,
      "outputs": []
    },
    {
      "cell_type": "code",
      "source": [
        "combined_watertemp['date'] = combined_watertemp['date'].astype(str)\n",
        "\n",
        "combined_watertemp['year'] = combined_watertemp['date'].str[:4].astype(int)\n"
      ],
      "metadata": {
        "id": "c9kolDAzuYML"
      },
      "execution_count": 9,
      "outputs": []
    },
    {
      "cell_type": "code",
      "source": [
        "fig, ax = plt.subplots()\n",
        "bp = ax.boxplot(combined_watertemp['sea_water_temperature'])\n",
        "\n",
        "\n",
        "median = bp['medians'][0].get_ydata()[0]\n",
        "lower_quartile = bp['boxes'][0].get_ydata()[0]\n",
        "upper_quartile = bp['boxes'][0].get_ydata()[2]\n",
        "lower_whisker = bp['whiskers'][0].get_ydata()[1]\n",
        "upper_whisker = bp['whiskers'][1].get_ydata()[1]\n",
        "outliers = bp['fliers'][0].get_ydata()\n",
        "\n",
        "print(\"Median:\", median)\n",
        "print(\"Lower Quartile:\", lower_quartile)\n",
        "print(\"Upper Quartile:\", upper_quartile)\n",
        "print(\"Lower Whisker:\", lower_whisker)\n",
        "print(\"Upper Whisker:\", upper_whisker)\n",
        "print(\"Outliers:\", outliers)"
      ],
      "metadata": {
        "id": "Bo_aLwLL-87d"
      },
      "execution_count": null,
      "outputs": []
    },
    {
      "cell_type": "code",
      "source": [
        "combined_watertemp1 = combined_watertemp[combined_watertemp['sea_water_temperature'] <= 45.5]\n",
        "combined_watertemp1 = combined_watertemp1[combined_watertemp1['sea_water_temperature'] >= 0.54]\n"
      ],
      "metadata": {
        "id": "6qYQOj-u_iGP"
      },
      "execution_count": null,
      "outputs": []
    },
    {
      "cell_type": "code",
      "source": [
        "import matplotlib.pyplot as plt\n",
        "import numpy as np\n",
        "\n",
        "\n",
        "x = combined_watertemp1['year']\n",
        "y = combined_watertemp1['sea_water_temperature']\n",
        "\n",
        "plt.scatter(x, y)\n",
        "plt.xlabel(\"Date\")\n",
        "plt.ylabel(\"Water Temperature (Celsuius)\")\n",
        "plt.title(\"Gulf of Mexico Water Temperatures\")\n",
        "plt.show()"
      ],
      "metadata": {
        "colab": {
          "base_uri": "https://localhost:8080/",
          "height": 211
        },
        "id": "pQku3QKEsd03",
        "outputId": "5018b7ab-0159-4f82-9d51-778c751a3815"
      },
      "execution_count": 1,
      "outputs": [
        {
          "output_type": "error",
          "ename": "NameError",
          "evalue": "name 'combined_watertemp1' is not defined",
          "traceback": [
            "\u001b[0;31m---------------------------------------------------------------------------\u001b[0m",
            "\u001b[0;31mNameError\u001b[0m                                 Traceback (most recent call last)",
            "\u001b[0;32m<ipython-input-1-e2cb11a92a56>\u001b[0m in \u001b[0;36m<cell line: 6>\u001b[0;34m()\u001b[0m\n\u001b[1;32m      4\u001b[0m \u001b[0;34m\u001b[0m\u001b[0m\n\u001b[1;32m      5\u001b[0m \u001b[0;31m# Define X and Y variable data\u001b[0m\u001b[0;34m\u001b[0m\u001b[0;34m\u001b[0m\u001b[0m\n\u001b[0;32m----> 6\u001b[0;31m \u001b[0mx\u001b[0m \u001b[0;34m=\u001b[0m \u001b[0mcombined_watertemp1\u001b[0m\u001b[0;34m[\u001b[0m\u001b[0;34m'year'\u001b[0m\u001b[0;34m]\u001b[0m\u001b[0;34m\u001b[0m\u001b[0;34m\u001b[0m\u001b[0m\n\u001b[0m\u001b[1;32m      7\u001b[0m \u001b[0my\u001b[0m \u001b[0;34m=\u001b[0m \u001b[0mcombined_watertemp1\u001b[0m\u001b[0;34m[\u001b[0m\u001b[0;34m'sea_water_temperature'\u001b[0m\u001b[0;34m]\u001b[0m\u001b[0;34m\u001b[0m\u001b[0;34m\u001b[0m\u001b[0m\n\u001b[1;32m      8\u001b[0m \u001b[0;34m\u001b[0m\u001b[0m\n",
            "\u001b[0;31mNameError\u001b[0m: name 'combined_watertemp1' is not defined"
          ]
        }
      ]
    },
    {
      "cell_type": "code",
      "source": [
        "import seaborn as sns\n",
        "\n",
        "plt.figure(figsize=(12, 6))\n",
        "sns.boxplot(x='year', y='sea_water_temperature', data=combined_watertemp1)\n",
        "\n",
        "\n",
        "plt.title('Sea Water Temperatures by Year')\n",
        "plt.xlabel('Year')\n",
        "plt.ylabel('Temperature (Celsius)')\n",
        "plt.xticks(rotation=45)\n",
        "\n",
        "\n",
        "plt.tight_layout()\n",
        "plt.show()"
      ],
      "metadata": {
        "id": "-Whc4V4pPzBj"
      },
      "execution_count": null,
      "outputs": []
    },
    {
      "cell_type": "markdown",
      "source": [
        "SPECIES: Atlantic sharpnose shark, brown rock shrimp, Mueller's Sea Pansy, Paper Scallop, Emerald Parrotfish\n",
        "\n",
        "quick visualization on depth, lat/long for each species"
      ],
      "metadata": {
        "id": "eO0CqfUOoU0w"
      }
    },
    {
      "cell_type": "code",
      "execution_count": null,
      "metadata": {
        "id": "Hn591clBoQIP"
      },
      "outputs": [],
      "source": []
    },
    {
      "cell_type": "markdown",
      "source": [
        "analysis: does a change in prey depth/lat/long have any correlation to changes in predator depth/lat/long? how long does it take to see a change, if any?"
      ],
      "metadata": {
        "id": "ckWc6tMdsn-W"
      }
    },
    {
      "cell_type": "code",
      "source": [],
      "metadata": {
        "id": "rSgng-3Xs4ly"
      },
      "execution_count": null,
      "outputs": []
    },
    {
      "cell_type": "markdown",
      "source": [
        "CLIMATE: temperature (and any other climate variables)\n",
        "\n",
        "quick visualization on temperature trends over the past few decades"
      ],
      "metadata": {
        "id": "P3e6kE0kpkoV"
      }
    },
    {
      "cell_type": "code",
      "source": [],
      "metadata": {
        "id": "3Q1qUFjQpkBS"
      },
      "execution_count": null,
      "outputs": []
    },
    {
      "cell_type": "markdown",
      "source": [
        "machine learning: predict future climate patterns\n",
        "\n",
        "possiblity 1: try multiple different methods to see what has the best accuracy\n",
        "\n",
        "possibility 2: taking into account that temperature have increaed more in recent years than past (and past averages will drag down future predicted temps), try models using different amounts of data (50 years, 20 years, 10 years, 5 years, 3 years)"
      ],
      "metadata": {
        "id": "Yg3AtgQiqDac"
      }
    },
    {
      "cell_type": "code",
      "source": [],
      "metadata": {
        "id": "CVR6q3rPqooF"
      },
      "execution_count": null,
      "outputs": []
    },
    {
      "cell_type": "markdown",
      "source": [
        "machine learning: combine species data and temperature data to predict future species data"
      ],
      "metadata": {
        "id": "ZyHpRzqLqpbB"
      }
    },
    {
      "cell_type": "code",
      "source": [],
      "metadata": {
        "id": "-czhxBVxsl2f"
      },
      "execution_count": null,
      "outputs": []
    }
  ]
}